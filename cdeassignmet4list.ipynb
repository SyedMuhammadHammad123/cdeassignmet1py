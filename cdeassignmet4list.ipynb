{
 "cells": [
  {
   "cell_type": "markdown",
   "id": "155c27e3",
   "metadata": {},
   "source": [
    "1. Write a program that accepts a list from user and print the alternate element of list. "
   ]
  },
  {
   "cell_type": "code",
   "execution_count": 1,
   "id": "431b1748",
   "metadata": {},
   "outputs": [
    {
     "name": "stdout",
     "output_type": "stream",
     "text": [
      "hammad\n",
      "khi\n"
     ]
    }
   ],
   "source": [
    "name=input('Enter name:')\n",
    "age=int(input('Enter age:'))\n",
    "city=input('Enter city:')\n",
    "info=[name,age,city]\n",
    "length=len(info)\n",
    "for i in range(0,length,2):\n",
    "    print(info[i])"
   ]
  },
  {
   "cell_type": "markdown",
   "id": "b9477549",
   "metadata": {},
   "source": [
    "2. Write a program that accepts a list from user. Your program should reverse the content of list and\n",
    "display it. Do not use reverse() metho"
   ]
  },
  {
   "cell_type": "code",
   "execution_count": 2,
   "id": "f70b5db1",
   "metadata": {},
   "outputs": [
    {
     "name": "stdout",
     "output_type": "stream",
     "text": [
      "khi\n",
      "12\n",
      "hammad\n"
     ]
    }
   ],
   "source": [
    "name=input('Enter name:')\n",
    "age=int(input('Enter age:'))\n",
    "city=input('Enter city:')\n",
    "info=[name,age,city]\n",
    "length=len(info)\n",
    "for i in range(len(info) - 1, -1, -1):\n",
    "    print(info[i])"
   ]
  },
  {
   "cell_type": "markdown",
   "id": "2e418459",
   "metadata": {},
   "source": [
    " 3. Find and display the largest number of a list without using built-in function max(). Your program\n",
    "should ask the user to input values in list from keyboard. "
   ]
  },
  {
   "cell_type": "code",
   "execution_count": 4,
   "id": "33efdd0b",
   "metadata": {},
   "outputs": [
    {
     "name": "stdout",
     "output_type": "stream",
     "text": [
      "The largest number is: 8\n"
     ]
    }
   ],
   "source": [
    "numbers = input(\"Enter numbers separated by spaces: \")\n",
    "num_list = [int(n) for n in numbers.split()]\n",
    "largest = num_list[0]\n",
    "for num in num_list[1:]:\n",
    "    if num > largest:\n",
    "        largest = num\n",
    "print(\"The largest number is:\", largest)"
   ]
  },
  {
   "cell_type": "markdown",
   "id": "6e1fd99e",
   "metadata": {},
   "source": [
    "4. Write a program that rotates the element of a list so that the element at the first index moves to the\n",
    "second index, the element in the second index moves to the third index, etc., and the element in the last\n",
    "index moves to the first index. \n"
   ]
  },
  {
   "cell_type": "code",
   "execution_count": 5,
   "id": "8f61c3d2",
   "metadata": {},
   "outputs": [
    {
     "name": "stdout",
     "output_type": "stream",
     "text": [
      "khi,hammad,12\n",
      "khi hammad 12 "
     ]
    }
   ],
   "source": [
    "name=input('Enter name:')\n",
    "age=int(input('Enter age:'))\n",
    "stringage=str(age)\n",
    "city=input('Enter city:')\n",
    "info=[name,stringage,city]\n",
    "bio=[]\n",
    "bio.append(info[-1])\n",
    "bio.extend(info[0:-1])\n",
    "biostring=','.join(bio)\n",
    "print(biostring)\n",
    "for item in bio:\n",
    "    print(item,end=\" \")"
   ]
  },
  {
   "cell_type": "markdown",
   "id": "245c07bf",
   "metadata": {},
   "source": [
    "5. Write a program that input a string and ask user to delete a given word from a string"
   ]
  },
  {
   "cell_type": "code",
   "execution_count": 6,
   "id": "48a182d9",
   "metadata": {},
   "outputs": [
    {
     "name": "stdout",
     "output_type": "stream",
     "text": [
      "My name is hammad\n"
     ]
    }
   ],
   "source": [
    "string=input('Enter a string:')\n",
    "word=input('Enter word to remove:')\n",
    "lists=string.split()\n",
    "lists.remove(word)\n",
    "newstring=' '.join(lists)\n",
    "print(newstring)"
   ]
  },
  {
   "cell_type": "markdown",
   "id": "7240c812",
   "metadata": {},
   "source": [
    " 6. Write a program that reads a string from the user containing a date in the form mm/dd/yyyy. It\n",
    "should print the date in the form March 12, 2021"
   ]
  },
  {
   "cell_type": "code",
   "execution_count": 7,
   "id": "ef3ffaf9",
   "metadata": {},
   "outputs": [
    {
     "name": "stdout",
     "output_type": "stream",
     "text": [
      "March 12, 2025\n"
     ]
    }
   ],
   "source": [
    "x=input('Enter date mm/dd/yyyy:')\n",
    "month=int(x[:2])\n",
    "months=['0','Jan','Feb','March',\"April\",\"May\",\"June\",\"July\",\"Aug\",\"Sep\",\"Oct\",\"Nov\",\"Dec\"]\n",
    "date=months[month]+\" \"+x[3:5]+', '+x[6:]\n",
    "print(date)"
   ]
  },
  {
   "cell_type": "markdown",
   "id": "e5519427",
   "metadata": {},
   "source": [
    " 7. Write a program with a function that accepts a string from keyboard and create a new string after\n",
    "converting character of each word capitalized. For instance, if the sentence is \"stop and smell the roses.\"\n",
    "the output should be \"Stop And Smell The Roses\""
   ]
  },
  {
   "cell_type": "code",
   "execution_count": 8,
   "id": "fb346dc4",
   "metadata": {},
   "outputs": [
    {
     "name": "stdout",
     "output_type": "stream",
     "text": [
      "Stop And Smell The Roses\n"
     ]
    }
   ],
   "source": [
    "\n",
    "string=input(\"Enter a string:\")\n",
    "lst=string.split()\n",
    "for i in range(len(lst)):\n",
    "    lst[i]=lst[i].capitalize()\n",
    "x=\" \".join(lst)\n",
    "print(x)"
   ]
  },
  {
   "cell_type": "markdown",
   "id": "7ed72524",
   "metadata": {},
   "source": [
    "8. Find the sum of each row of matrix of size m x n. For example for the following matrix output will be\n",
    "like this :\n",
    "Sum of row 1 = 32\n",
    "Sum of row 2 = 31\n",
    "Sum of row 3 = 63"
   ]
  },
  {
   "cell_type": "code",
   "execution_count": 9,
   "id": "0fb213e0",
   "metadata": {},
   "outputs": [
    {
     "name": "stdout",
     "output_type": "stream",
     "text": [
      "[6, 6]\n"
     ]
    }
   ],
   "source": [
    "n=int(input(\"Enter value of n:\"))\n",
    "m=int(input(\"Enter value of m:\"))\n",
    "n1=[]\n",
    "n2=[]\n",
    "m1=[]\n",
    "m2=[]\n",
    "sum=0\n",
    "for i in range(n):\n",
    "    for j in range(m):\n",
    "        ab=int(input(\"Enter a number for matrix:\"))\n",
    "        m1.append(ab)\n",
    "    n1.append(m1)\n",
    "for i in range(n):\n",
    "    for j in range(m):\n",
    "        sum=sum+n1[i][j]\n",
    "    m2.append(sum)\n",
    "    sum=0\n",
    "print(m2)"
   ]
  },
  {
   "cell_type": "markdown",
   "id": "92ed0ca9",
   "metadata": {},
   "source": [
    "9. Write a program to add two matrices of size n x m."
   ]
  },
  {
   "cell_type": "code",
   "execution_count": 10,
   "id": "c7210b0e",
   "metadata": {},
   "outputs": [
    {
     "name": "stdout",
     "output_type": "stream",
     "text": [
      "[[4, 4, 4, 4], [4, 4, 4, 4]]\n"
     ]
    }
   ],
   "source": [
    "n=int(input(\"Enter value of n:\"))\n",
    "m=int(input(\"Enter value of m:\"))\n",
    "n1=[]\n",
    "n2=[]\n",
    "n3=[]\n",
    "m1=[]\n",
    "m2=[]\n",
    "m3=[]\n",
    "for i in range(n):\n",
    "    for j in range(m):\n",
    "        ab=int(input(\"Enter a number for first matrix:\"))\n",
    "        m1.append(ab)\n",
    "    n1.append(m1)\n",
    "for i in range(n):\n",
    "    for j in range(m):\n",
    "        ab=int(input(\"Enter a number for second matrix:\"))\n",
    "        m2.append(ab)\n",
    "    n2.append(m2)\n",
    "for i in range(n):\n",
    "    for j in range(m):\n",
    "        m3.append(n1[i][m]+n2[i][m])\n",
    "    n3.append(m3)\n",
    "print(n3)"
   ]
  },
  {
   "cell_type": "markdown",
   "id": "db445795",
   "metadata": {},
   "source": [
    "10. Write a program to multiply two matrices "
   ]
  },
  {
   "cell_type": "code",
   "execution_count": 11,
   "id": "c69bd27e",
   "metadata": {},
   "outputs": [
    {
     "name": "stdout",
     "output_type": "stream",
     "text": [
      "[[9, 9, 9, 9, 9, 9], [9, 9, 9, 9, 9, 9]]\n"
     ]
    }
   ],
   "source": [
    "n=int(input(\"Enter value of n:\"))\n",
    "m=int(input(\"Enter value of m:\"))\n",
    "n1=[]\n",
    "n2=[]\n",
    "n3=[]\n",
    "m1=[]\n",
    "m2=[]\n",
    "m3=[]\n",
    "for i in range(n):\n",
    "    for j in range(m):\n",
    "        ab=int(input(\"Enter a number for first matrix:\"))\n",
    "        m1.append(ab)\n",
    "    n1.append(m1)\n",
    "for i in range(n):\n",
    "    for j in range(m):\n",
    "        ab=int(input(\"Enter a number for second matrix:\"))\n",
    "        m2.append(ab)\n",
    "    n2.append(m2)\n",
    "for i in range(n):\n",
    "    for j in range(m):\n",
    "        m3.append(n1[i][m]*n2[i][m])\n",
    "    n3.append(m3)\n",
    "print(n3)"
   ]
  }
 ],
 "metadata": {
  "kernelspec": {
   "display_name": "Python 3",
   "language": "python",
   "name": "python3"
  },
  "language_info": {
   "codemirror_mode": {
    "name": "ipython",
    "version": 3
   },
   "file_extension": ".py",
   "mimetype": "text/x-python",
   "name": "python",
   "nbconvert_exporter": "python",
   "pygments_lexer": "ipython3",
   "version": "3.13.5"
  }
 },
 "nbformat": 4,
 "nbformat_minor": 5
}
