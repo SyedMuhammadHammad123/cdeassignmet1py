{
 "cells": [
  {
   "cell_type": "markdown",
   "id": "4fb148f7",
   "metadata": {},
   "source": [
    " Write a program that accepts a string from user. Your program should count and display number of vowels in that string."
   ]
  },
  {
   "cell_type": "code",
   "execution_count": 1,
   "id": "22a34eed",
   "metadata": {},
   "outputs": [
    {
     "name": "stdout",
     "output_type": "stream",
     "text": [
      "Total count is: 5\n"
     ]
    }
   ],
   "source": [
    "vowels=input(\"Enter a string:\")\n",
    "count=0\n",
    "for item in vowels:\n",
    "    if item=='a' or item=='e' or item=='i' or item=='o' or item=='u':\n",
    "        count=count+1   \n",
    "print('Total count is:',count)"
   ]
  },
  {
   "cell_type": "markdown",
   "id": "768235d0",
   "metadata": {},
   "source": [
    "Q2. Write a program that reads a string from keyboard and display:\n",
    "* The number of uppercase letters in the string\n",
    "* The number of lowercase letters in the string\n",
    "* The number of digits in the string\n",
    "* The number of whitespace characters in the string "
   ]
  },
  {
   "cell_type": "code",
   "execution_count": 2,
   "id": "6c428b4f",
   "metadata": {},
   "outputs": [
    {
     "name": "stdout",
     "output_type": "stream",
     "text": [
      "Uppercase: 0\n",
      "Lowercase: 14\n",
      "Digits 0\n",
      "Space 3\n"
     ]
    }
   ],
   "source": [
    "string=input(\"Enter a string:\")\n",
    "uppercase=0\n",
    "lowercase=0\n",
    "digits=0\n",
    "space=0\n",
    "for item in string:\n",
    "    if item>='A' and item<='Z':\n",
    "        uppercase+=1\n",
    "    elif item.islower()==True:\n",
    "        lowercase+=1\n",
    "    elif item.isdigit()==True:\n",
    "        digits+=1\n",
    "    elif item==\" \":\n",
    "        space+=1\n",
    "print('Uppercase:',uppercase)\n",
    "print(\"Lowercase:\",lowercase)\n",
    "print(\"Digits\",digits)\n",
    "print(\"Space\",space)"
   ]
  },
  {
   "cell_type": "markdown",
   "id": "15b40f78",
   "metadata": {},
   "source": [
    "Q3. Write a Python program that accepts a string from user. Your program should create and display a\n",
    "new string where the first and last characters have been exchanged."
   ]
  },
  {
   "cell_type": "code",
   "execution_count": 3,
   "id": "eccc2ca2",
   "metadata": {},
   "outputs": [
    {
     "name": "stdout",
     "output_type": "stream",
     "text": [
      "dy name is hammam\n"
     ]
    }
   ],
   "source": [
    "string=input('Enter a string:')\n",
    "newstr=string[-1]+ string[1:-1]+ string[0]\n",
    "print(newstr)"
   ]
  },
  {
   "cell_type": "markdown",
   "id": "c32bddb4",
   "metadata": {},
   "source": [
    "Q4.Write a Python program that accepts a string from user. Your program should create a new string in\n",
    "reverse of first string and display it.\n",
    "For example if the user enters the string 'EXAM' then new string would be 'MAXE' "
   ]
  },
  {
   "cell_type": "code",
   "execution_count": 4,
   "id": "23058c6c",
   "metadata": {},
   "outputs": [
    {
     "name": "stdout",
     "output_type": "stream",
     "text": [
      "Reversed string: dammah si eman ym\n"
     ]
    }
   ],
   "source": [
    "string=input('Enter a string:')\n",
    "newstr=string[::-1]\n",
    "print(\"Reversed string:\",newstr)"
   ]
  },
  {
   "cell_type": "markdown",
   "id": "73399a23",
   "metadata": {},
   "source": [
    "Q5.Write a Python program that accepts a string from user. Your program should create a new string by\n",
    "shifting one position to left.\n",
    "For example if the user enters the string 'examination 2021' then new string would be 'xamination\n",
    "2021e'"
   ]
  },
  {
   "cell_type": "code",
   "execution_count": 5,
   "id": "873f7a76",
   "metadata": {},
   "outputs": [
    {
     "name": "stdout",
     "output_type": "stream",
     "text": [
      "y name is hammad\n"
     ]
    }
   ],
   "source": [
    "string=input('Enter a string:')\n",
    "newstr=string[1:]\n",
    "print(newstr)"
   ]
  },
  {
   "cell_type": "markdown",
   "id": "8f041303",
   "metadata": {},
   "source": [
    "Q6.Write a program that asks the user to input his name and print its initials. Assuming that the user\n",
    "always types first name, middle name and last name and does not include any unnecessary spaces.\n",
    "For example, if the user enters Ajay Kumar Garg the program should display A. K. G.\n",
    "Note:Don't use split() method\n"
   ]
  },
  {
   "cell_type": "code",
   "execution_count": 7,
   "id": "cfba0985",
   "metadata": {},
   "outputs": [
    {
     "name": "stdout",
     "output_type": "stream",
     "text": [
      "['S.', 'M.', 'H.']\n"
     ]
    }
   ],
   "source": [
    "string=input('Enter your name:')\n",
    "length=len(string)\n",
    "firstword=[string[0]+'.']\n",
    "for i in range(length):\n",
    "    if string[i]==\" \":\n",
    "        firstword.append(string[i+1]+'.')\n",
    "print(firstword)"
   ]
  },
  {
   "cell_type": "markdown",
   "id": "d4c058ac",
   "metadata": {},
   "source": [
    "Q7.A palindrome is a string that reads the same backward as forward. For example, the words dad,\n",
    "madam and radar are all palindromes. Write a programs that determines whether the string is a\n",
    "palindrome.\n",
    "Note: do not use reverse() method"
   ]
  },
  {
   "cell_type": "code",
   "execution_count": 9,
   "id": "e5458e85",
   "metadata": {},
   "outputs": [
    {
     "name": "stdout",
     "output_type": "stream",
     "text": [
      "It is palindrome\n"
     ]
    }
   ],
   "source": [
    "string=input('Enter your string:')\n",
    "revstr=string[::-1]\n",
    "if string==revstr:\n",
    "    print('It is palindrome')\n",
    "else :\n",
    "    print('It is not a palindrome')"
   ]
  },
  {
   "cell_type": "markdown",
   "id": "971bd1b1",
   "metadata": {},
   "source": [
    "\n",
    "8. Write a program that display following output:\n",
    "SHIFT\n",
    "HIFTS\n",
    "IFTSH\n",
    "FTSHI\n",
    "TSHIF\n",
    "SHIFT "
   ]
  },
  {
   "cell_type": "code",
   "execution_count": 10,
   "id": "97077336",
   "metadata": {},
   "outputs": [
    {
     "name": "stdout",
     "output_type": "stream",
     "text": [
      "SHIFT\n",
      "HIFTS\n",
      "IFTSH\n",
      "FTSHI\n",
      "TSHIF\n",
      "SHIFT\n"
     ]
    }
   ],
   "source": [
    "string = \"SHIFT\"\n",
    "original = string\n",
    "\n",
    "for _ in range(len(string)):\n",
    "    print(string)\n",
    "    string = string[1:] + string[0]\n",
    "\n",
    "print(original)"
   ]
  },
  {
   "cell_type": "markdown",
   "id": "ee2a39d0",
   "metadata": {},
   "source": [
    "9. Write a program in python that accepts a string to setup a passwords. Your entered password must\n",
    "meet the following requirements:\n",
    "The password must be at least eight characters long.\n",
    "It must contain at least one uppercase letter.\n",
    "It must contain at least one lowercase letter.\n",
    "It must contain at least one numeric digit.\n",
    "Your program should should perform this validation."
   ]
  },
  {
   "cell_type": "code",
   "execution_count": 12,
   "id": "f72f35b4",
   "metadata": {},
   "outputs": [
    {
     "name": "stdout",
     "output_type": "stream",
     "text": [
      "Password is valid\n"
     ]
    }
   ],
   "source": [
    "string=input('Enter your password:')\n",
    "uppercase=0\n",
    "lowercase=0\n",
    "digits=0\n",
    "for item in string:\n",
    "    if item>='A' and item<='Z':\n",
    "        uppercase+=1\n",
    "    elif item.islower()==True:\n",
    "        lowercase+=1\n",
    "    elif item.isdigit()==True:\n",
    "        digits+=1\n",
    "if len(string)>=8 and uppercase>0 and lowercase>0 and digits>0:\n",
    "    print('Password is valid')\n",
    "else:\n",
    "    print('Password is invalid')"
   ]
  }
 ],
 "metadata": {
  "kernelspec": {
   "display_name": "Python 3",
   "language": "python",
   "name": "python3"
  },
  "language_info": {
   "codemirror_mode": {
    "name": "ipython",
    "version": 3
   },
   "file_extension": ".py",
   "mimetype": "text/x-python",
   "name": "python",
   "nbconvert_exporter": "python",
   "pygments_lexer": "ipython3",
   "version": "3.13.5"
  }
 },
 "nbformat": 4,
 "nbformat_minor": 5
}
